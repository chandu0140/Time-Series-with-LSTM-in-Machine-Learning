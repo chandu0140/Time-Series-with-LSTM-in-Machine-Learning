{
 "cells": [
  {
   "cell_type": "code",
   "execution_count": 2,
   "id": "c8bab322-9dcb-439c-a3d3-b99986a56618",
   "metadata": {},
   "outputs": [],
   "source": [
    "import numpy\n",
    "import matplotlib.pyplot as plt\n",
    "import pandas\n",
    "import math\n",
    "from keras.models import Sequential\n",
    "from keras.layers import Dense\n",
    "from keras.layers import LSTM\n",
    "from sklearn.preprocessing import MinMaxScaler\n",
    "from sklearn.metrics import mean_squared_error\n",
    "# fix random seed for reproducibility\n",
    "numpy.random.seed(7)"
   ]
  },
  {
   "cell_type": "code",
   "execution_count": 4,
   "id": "32537934-cc15-426a-a691-cf53164e335c",
   "metadata": {},
   "outputs": [],
   "source": [
    "# load the dataset\n",
    "dataframe = pandas.read_csv('air_passengers.csv', usecols=[1], engine='python')\n",
    "dataset = dataframe.values\n",
    "dataset = dataset.astype('float32')"
   ]
  },
  {
   "cell_type": "code",
   "execution_count": 5,
   "id": "53810502-f3a7-42e3-9a6f-acc3a9d6486a",
   "metadata": {},
   "outputs": [],
   "source": [
    "# normalize the dataset\n",
    "scaler = MinMaxScaler(feature_range=(0, 1))\n",
    "dataset = scaler.fit_transform(dataset)"
   ]
  },
  {
   "cell_type": "code",
   "execution_count": 6,
   "id": "3c89bef1-6ee2-4f35-a20c-c4e46d5abfc2",
   "metadata": {},
   "outputs": [
    {
     "name": "stdout",
     "output_type": "stream",
     "text": [
      "96 48\n"
     ]
    }
   ],
   "source": [
    "# split into train and test sets\n",
    "train_size = int(len(dataset) * 0.67)\n",
    "test_size = len(dataset) - train_size\n",
    "train, test = dataset[0:train_size,:], dataset[train_size:len(dataset),:]\n",
    "print(len(train), len(test))"
   ]
  },
  {
   "cell_type": "code",
   "execution_count": 7,
   "id": "ba5fe019-85d4-4853-96db-3b7b14f0b3d6",
   "metadata": {},
   "outputs": [],
   "source": [
    "# convert an array of values into a dataset matrix\n",
    "def create_dataset(dataset, look_back=1):\n",
    "\tdataX, dataY = [], []\n",
    "\tfor i in range(len(dataset)-look_back-1):\n",
    "\t\ta = dataset[i:(i+look_back), 0]\n",
    "\t\tdataX.append(a)\n",
    "\t\tdataY.append(dataset[i + look_back, 0])\n",
    "\treturn numpy.array(dataX), numpy.array(dataY)"
   ]
  },
  {
   "cell_type": "code",
   "execution_count": 8,
   "id": "34dae8f3-5fd7-4817-bb93-fcc9dee61e27",
   "metadata": {},
   "outputs": [],
   "source": [
    "# reshape into X=t and Y=t+1\n",
    "look_back = 1\n",
    "trainX, trainY = create_dataset(train, look_back)\n",
    "testX, testY = create_dataset(test, look_back)"
   ]
  },
  {
   "cell_type": "code",
   "execution_count": 9,
   "id": "c131c2b5-9b0e-4dc4-851b-8c3d122995b9",
   "metadata": {},
   "outputs": [],
   "source": [
    "# reshape input to be [samples, time steps, features]\n",
    "trainX = numpy.reshape(trainX, (trainX.shape[0], 1, trainX.shape[1]))\n",
    "testX = numpy.reshape(testX, (testX.shape[0], 1, testX.shape[1]))"
   ]
  },
  {
   "cell_type": "code",
   "execution_count": 10,
   "id": "1291a98b-560e-4bfd-b449-c028faa5b9af",
   "metadata": {},
   "outputs": [
    {
     "name": "stderr",
     "output_type": "stream",
     "text": [
      "C:\\Users\\neela\\AppData\\Roaming\\Python\\Python313\\site-packages\\keras\\src\\layers\\rnn\\rnn.py:199: UserWarning: Do not pass an `input_shape`/`input_dim` argument to a layer. When using Sequential models, prefer using an `Input(shape)` object as the first layer in the model instead.\n",
      "  super().__init__(**kwargs)\n"
     ]
    },
    {
     "name": "stdout",
     "output_type": "stream",
     "text": [
      "Epoch 1/100\n",
      "94/94 - 3s - 28ms/step - loss: 0.0561\n",
      "Epoch 2/100\n",
      "94/94 - 0s - 3ms/step - loss: 0.0274\n",
      "Epoch 3/100\n",
      "94/94 - 0s - 4ms/step - loss: 0.0208\n",
      "Epoch 4/100\n",
      "94/94 - 0s - 3ms/step - loss: 0.0189\n",
      "Epoch 5/100\n",
      "94/94 - 0s - 3ms/step - loss: 0.0175\n",
      "Epoch 6/100\n",
      "94/94 - 0s - 4ms/step - loss: 0.0162\n",
      "Epoch 7/100\n",
      "94/94 - 0s - 3ms/step - loss: 0.0152\n",
      "Epoch 8/100\n",
      "94/94 - 0s - 4ms/step - loss: 0.0139\n",
      "Epoch 9/100\n",
      "94/94 - 0s - 3ms/step - loss: 0.0128\n",
      "Epoch 10/100\n",
      "94/94 - 0s - 3ms/step - loss: 0.0117\n",
      "Epoch 11/100\n",
      "94/94 - 0s - 4ms/step - loss: 0.0108\n",
      "Epoch 12/100\n",
      "94/94 - 0s - 3ms/step - loss: 0.0098\n",
      "Epoch 13/100\n",
      "94/94 - 0s - 3ms/step - loss: 0.0087\n",
      "Epoch 14/100\n",
      "94/94 - 0s - 3ms/step - loss: 0.0078\n",
      "Epoch 15/100\n",
      "94/94 - 0s - 3ms/step - loss: 0.0069\n",
      "Epoch 16/100\n",
      "94/94 - 0s - 4ms/step - loss: 0.0061\n",
      "Epoch 17/100\n",
      "94/94 - 0s - 3ms/step - loss: 0.0054\n",
      "Epoch 18/100\n",
      "94/94 - 0s - 3ms/step - loss: 0.0047\n",
      "Epoch 19/100\n",
      "94/94 - 0s - 3ms/step - loss: 0.0041\n",
      "Epoch 20/100\n",
      "94/94 - 0s - 3ms/step - loss: 0.0037\n",
      "Epoch 21/100\n",
      "94/94 - 0s - 3ms/step - loss: 0.0032\n",
      "Epoch 22/100\n",
      "94/94 - 0s - 3ms/step - loss: 0.0029\n",
      "Epoch 23/100\n",
      "94/94 - 0s - 3ms/step - loss: 0.0027\n",
      "Epoch 24/100\n",
      "94/94 - 0s - 4ms/step - loss: 0.0025\n",
      "Epoch 25/100\n",
      "94/94 - 0s - 3ms/step - loss: 0.0023\n",
      "Epoch 26/100\n",
      "94/94 - 0s - 3ms/step - loss: 0.0022\n",
      "Epoch 27/100\n",
      "94/94 - 0s - 4ms/step - loss: 0.0021\n",
      "Epoch 28/100\n",
      "94/94 - 0s - 3ms/step - loss: 0.0021\n",
      "Epoch 29/100\n",
      "94/94 - 0s - 3ms/step - loss: 0.0020\n",
      "Epoch 30/100\n",
      "94/94 - 0s - 3ms/step - loss: 0.0020\n",
      "Epoch 31/100\n",
      "94/94 - 0s - 4ms/step - loss: 0.0020\n",
      "Epoch 32/100\n",
      "94/94 - 0s - 3ms/step - loss: 0.0020\n",
      "Epoch 33/100\n",
      "94/94 - 0s - 3ms/step - loss: 0.0020\n",
      "Epoch 34/100\n",
      "94/94 - 0s - 3ms/step - loss: 0.0020\n",
      "Epoch 35/100\n",
      "94/94 - 0s - 3ms/step - loss: 0.0020\n",
      "Epoch 36/100\n",
      "94/94 - 0s - 4ms/step - loss: 0.0020\n",
      "Epoch 37/100\n",
      "94/94 - 0s - 3ms/step - loss: 0.0021\n",
      "Epoch 38/100\n",
      "94/94 - 1s - 7ms/step - loss: 0.0020\n",
      "Epoch 39/100\n",
      "94/94 - 0s - 3ms/step - loss: 0.0019\n",
      "Epoch 40/100\n",
      "94/94 - 0s - 4ms/step - loss: 0.0020\n",
      "Epoch 41/100\n",
      "94/94 - 0s - 3ms/step - loss: 0.0020\n",
      "Epoch 42/100\n",
      "94/94 - 0s - 3ms/step - loss: 0.0020\n",
      "Epoch 43/100\n",
      "94/94 - 0s - 3ms/step - loss: 0.0019\n",
      "Epoch 44/100\n",
      "94/94 - 0s - 3ms/step - loss: 0.0019\n",
      "Epoch 45/100\n",
      "94/94 - 0s - 3ms/step - loss: 0.0019\n",
      "Epoch 46/100\n",
      "94/94 - 0s - 3ms/step - loss: 0.0020\n",
      "Epoch 47/100\n",
      "94/94 - 0s - 3ms/step - loss: 0.0020\n",
      "Epoch 48/100\n",
      "94/94 - 0s - 4ms/step - loss: 0.0020\n",
      "Epoch 49/100\n",
      "94/94 - 0s - 3ms/step - loss: 0.0020\n",
      "Epoch 50/100\n",
      "94/94 - 0s - 3ms/step - loss: 0.0019\n",
      "Epoch 51/100\n",
      "94/94 - 0s - 3ms/step - loss: 0.0019\n",
      "Epoch 52/100\n",
      "94/94 - 0s - 4ms/step - loss: 0.0020\n",
      "Epoch 53/100\n",
      "94/94 - 0s - 3ms/step - loss: 0.0020\n",
      "Epoch 54/100\n",
      "94/94 - 0s - 3ms/step - loss: 0.0020\n",
      "Epoch 55/100\n",
      "94/94 - 0s - 4ms/step - loss: 0.0020\n",
      "Epoch 56/100\n",
      "94/94 - 0s - 3ms/step - loss: 0.0020\n",
      "Epoch 57/100\n",
      "94/94 - 0s - 3ms/step - loss: 0.0020\n",
      "Epoch 58/100\n",
      "94/94 - 0s - 3ms/step - loss: 0.0020\n",
      "Epoch 59/100\n",
      "94/94 - 0s - 3ms/step - loss: 0.0020\n",
      "Epoch 60/100\n",
      "94/94 - 0s - 3ms/step - loss: 0.0019\n",
      "Epoch 61/100\n",
      "94/94 - 0s - 3ms/step - loss: 0.0021\n",
      "Epoch 62/100\n",
      "94/94 - 0s - 3ms/step - loss: 0.0019\n",
      "Epoch 63/100\n",
      "94/94 - 0s - 3ms/step - loss: 0.0020\n",
      "Epoch 64/100\n",
      "94/94 - 0s - 4ms/step - loss: 0.0020\n",
      "Epoch 65/100\n",
      "94/94 - 0s - 3ms/step - loss: 0.0020\n",
      "Epoch 66/100\n",
      "94/94 - 0s - 4ms/step - loss: 0.0020\n",
      "Epoch 67/100\n",
      "94/94 - 0s - 4ms/step - loss: 0.0019\n",
      "Epoch 68/100\n",
      "94/94 - 0s - 4ms/step - loss: 0.0020\n",
      "Epoch 69/100\n",
      "94/94 - 0s - 3ms/step - loss: 0.0020\n",
      "Epoch 70/100\n",
      "94/94 - 0s - 3ms/step - loss: 0.0019\n",
      "Epoch 71/100\n",
      "94/94 - 0s - 3ms/step - loss: 0.0020\n",
      "Epoch 72/100\n",
      "94/94 - 0s - 4ms/step - loss: 0.0020\n",
      "Epoch 73/100\n",
      "94/94 - 0s - 3ms/step - loss: 0.0019\n",
      "Epoch 74/100\n",
      "94/94 - 0s - 3ms/step - loss: 0.0020\n",
      "Epoch 75/100\n",
      "94/94 - 0s - 3ms/step - loss: 0.0020\n",
      "Epoch 76/100\n",
      "94/94 - 0s - 3ms/step - loss: 0.0020\n",
      "Epoch 77/100\n",
      "94/94 - 0s - 3ms/step - loss: 0.0020\n",
      "Epoch 78/100\n",
      "94/94 - 0s - 3ms/step - loss: 0.0019\n",
      "Epoch 79/100\n",
      "94/94 - 0s - 4ms/step - loss: 0.0020\n",
      "Epoch 80/100\n",
      "94/94 - 0s - 3ms/step - loss: 0.0020\n",
      "Epoch 81/100\n",
      "94/94 - 0s - 3ms/step - loss: 0.0020\n",
      "Epoch 82/100\n",
      "94/94 - 0s - 4ms/step - loss: 0.0020\n",
      "Epoch 83/100\n",
      "94/94 - 0s - 3ms/step - loss: 0.0020\n",
      "Epoch 84/100\n",
      "94/94 - 0s - 3ms/step - loss: 0.0019\n",
      "Epoch 85/100\n",
      "94/94 - 0s - 4ms/step - loss: 0.0020\n",
      "Epoch 86/100\n",
      "94/94 - 0s - 3ms/step - loss: 0.0020\n",
      "Epoch 87/100\n",
      "94/94 - 0s - 3ms/step - loss: 0.0020\n",
      "Epoch 88/100\n",
      "94/94 - 0s - 3ms/step - loss: 0.0020\n",
      "Epoch 89/100\n",
      "94/94 - 0s - 3ms/step - loss: 0.0020\n",
      "Epoch 90/100\n",
      "94/94 - 0s - 3ms/step - loss: 0.0020\n",
      "Epoch 91/100\n",
      "94/94 - 0s - 4ms/step - loss: 0.0020\n",
      "Epoch 92/100\n",
      "94/94 - 0s - 3ms/step - loss: 0.0020\n",
      "Epoch 93/100\n",
      "94/94 - 0s - 3ms/step - loss: 0.0020\n",
      "Epoch 94/100\n",
      "94/94 - 0s - 4ms/step - loss: 0.0020\n",
      "Epoch 95/100\n",
      "94/94 - 0s - 3ms/step - loss: 0.0020\n",
      "Epoch 96/100\n",
      "94/94 - 0s - 3ms/step - loss: 0.0019\n",
      "Epoch 97/100\n",
      "94/94 - 0s - 3ms/step - loss: 0.0019\n",
      "Epoch 98/100\n",
      "94/94 - 0s - 3ms/step - loss: 0.0020\n",
      "Epoch 99/100\n",
      "94/94 - 0s - 4ms/step - loss: 0.0020\n",
      "Epoch 100/100\n",
      "94/94 - 0s - 3ms/step - loss: 0.0020\n"
     ]
    },
    {
     "data": {
      "text/plain": [
       "<keras.src.callbacks.history.History at 0x1aa24754980>"
      ]
     },
     "execution_count": 10,
     "metadata": {},
     "output_type": "execute_result"
    }
   ],
   "source": [
    "# create and fit the LSTM network\n",
    "model = Sequential()\n",
    "model.add(LSTM(4, input_shape=(1, look_back)))\n",
    "model.add(Dense(1))\n",
    "model.compile(loss='mean_squared_error', optimizer='adam')\n",
    "model.fit(trainX, trainY, epochs=100, batch_size=1, verbose=2)"
   ]
  },
  {
   "cell_type": "code",
   "execution_count": 11,
   "id": "d8ca7127-2a5d-484e-a322-11be4308a197",
   "metadata": {},
   "outputs": [
    {
     "name": "stdout",
     "output_type": "stream",
     "text": [
      "\u001b[1m3/3\u001b[0m \u001b[32m━━━━━━━━━━━━━━━━━━━━\u001b[0m\u001b[37m\u001b[0m \u001b[1m1s\u001b[0m 180ms/step\n",
      "\u001b[1m2/2\u001b[0m \u001b[32m━━━━━━━━━━━━━━━━━━━━\u001b[0m\u001b[37m\u001b[0m \u001b[1m0s\u001b[0m 34ms/step\n"
     ]
    }
   ],
   "source": [
    "# make predictions\n",
    "trainPredict = model.predict(trainX)\n",
    "testPredict = model.predict(testX)"
   ]
  },
  {
   "cell_type": "code",
   "execution_count": 12,
   "id": "5fa50951-a7d9-4afc-88cf-00cf178b75dd",
   "metadata": {},
   "outputs": [],
   "source": [
    "# invert predictions\n",
    "trainPredict = scaler.inverse_transform(trainPredict)\n",
    "trainY = scaler.inverse_transform([trainY])\n",
    "testPredict = scaler.inverse_transform(testPredict)\n",
    "testY = scaler.inverse_transform([testY])"
   ]
  },
  {
   "cell_type": "code",
   "execution_count": 13,
   "id": "73dc98f1-ae1f-4fdf-a3ff-ff92b88a3481",
   "metadata": {},
   "outputs": [],
   "source": [
    "# calculate root mean squared error\n",
    "trainScore = math.sqrt(mean_squared_error(trainY[0], trainPredict[:,0]))\n",
    "testScore = math.sqrt(mean_squared_error(testY[0], testPredict[:,0]))"
   ]
  },
  {
   "cell_type": "code",
   "execution_count": null,
   "id": "417cb0f7-b2e7-46fb-bac2-83898045a347",
   "metadata": {},
   "outputs": [],
   "source": []
  }
 ],
 "metadata": {
  "kernelspec": {
   "display_name": "Python 3 (ipykernel)",
   "language": "python",
   "name": "python3"
  },
  "language_info": {
   "codemirror_mode": {
    "name": "ipython",
    "version": 3
   },
   "file_extension": ".py",
   "mimetype": "text/x-python",
   "name": "python",
   "nbconvert_exporter": "python",
   "pygments_lexer": "ipython3",
   "version": "3.13.5"
  }
 },
 "nbformat": 4,
 "nbformat_minor": 5
}
